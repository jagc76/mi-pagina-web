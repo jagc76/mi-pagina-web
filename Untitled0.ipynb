{
  "nbformat": 4,
  "nbformat_minor": 0,
  "metadata": {
    "colab": {
      "name": "Untitled0.ipynb",
      "provenance": [],
      "authorship_tag": "ABX9TyPAQ/U5tvqsWKRphWrLTHUn",
      "include_colab_link": true
    },
    "kernelspec": {
      "name": "python3",
      "display_name": "Python 3"
    }
  },
  "cells": [
    {
      "cell_type": "markdown",
      "metadata": {
        "id": "view-in-github",
        "colab_type": "text"
      },
      "source": [
        "<a href=\"https://colab.research.google.com/github/jagc76/sitio-web-jaime-gomez-ca-ar/blob/master/Untitled0.ipynb\" target=\"_parent\"><img src=\"https://colab.research.google.com/assets/colab-badge.svg\" alt=\"Open In Colab\"/></a>"
      ]
    },
    {
      "cell_type": "code",
      "metadata": {
        "id": "8i92v-3uMsg_",
        "colab_type": "code",
        "colab": {}
      },
      "source": [
        ""
      ],
      "execution_count": null,
      "outputs": []
    },
    {
      "cell_type": "code",
      "metadata": {
        "id": "_pObIv_oNXUN",
        "colab_type": "code",
        "colab": {
          "base_uri": "https://localhost:8080/",
          "height": 34
        },
        "outputId": "5a50983d-5dcc-47cc-a561-a26f1ded86a6"
      },
      "source": [
        "2+6"
      ],
      "execution_count": 1,
      "outputs": [
        {
          "output_type": "execute_result",
          "data": {
            "text/plain": [
              "8"
            ]
          },
          "metadata": {
            "tags": []
          },
          "execution_count": 1
        }
      ]
    },
    {
      "cell_type": "code",
      "metadata": {
        "id": "bSpcCuhdOCJH",
        "colab_type": "code",
        "colab": {}
      },
      "source": [
        "x=4\n",
        "print(\"el valor de x es: \")"
      ],
      "execution_count": null,
      "outputs": []
    },
    {
      "cell_type": "markdown",
      "metadata": {
        "id": "Cm2Fn_0vS5z2",
        "colab_type": "text"
      },
      "source": [
        "ejercicio operaciones logicas"
      ]
    },
    {
      "cell_type": "code",
      "metadata": {
        "id": "8xh1mGlLORJe",
        "colab_type": "code",
        "colab": {
          "base_uri": "https://localhost:8080/",
          "height": 153
        },
        "outputId": "14a54ff5-c77e-42f1-ddfd-0c30ea7ec1d4"
      },
      "source": [
        "import math\n",
        "a= float (input(\"Ingrerse el primer numero: \"))\n",
        "b= float (input(\"Ingrerse el segundo numero: \"))\n",
        "\n",
        "\"\"\"\n",
        "comentario\n",
        "\"\"\"\n",
        "\n",
        "print(\"Suma de a y b: \", a+b )# aca sumamos a y b\n",
        "print(\"Resta de a y b: \", a-b )\n",
        "print(\"Multiplicacion de a y b: \", a*b )\n",
        "print(\"Division de a y b: \", a/b )\n",
        "print(\"Potencia de b y base a: \", a**b )\n",
        "print(\"Logaritmo natural de a: \", math.log(a) )"
      ],
      "execution_count": 5,
      "outputs": [
        {
          "output_type": "stream",
          "text": [
            "Ingrerse el primer numero: 2\n",
            "Ingrerse el segundo numero: 3\n",
            "Suma de a y b:  5.0\n",
            "Resta de a y b:  -1.0\n",
            "Multiplicacion de a y b:  6.0\n",
            "Division de a y b:  0.6666666666666666\n",
            "Potencia de b y base a:  8.0\n",
            "Logaritmo natural de a:  0.6931471805599453\n"
          ],
          "name": "stdout"
        }
      ]
    },
    {
      "cell_type": "markdown",
      "metadata": {
        "id": "iqr3w3yWStgv",
        "colab_type": "text"
      },
      "source": [
        "ejercicio indicar si un numero es negativo o positivo"
      ]
    },
    {
      "cell_type": "code",
      "metadata": {
        "id": "WwJNlwtdRdvk",
        "colab_type": "code",
        "colab": {
          "base_uri": "https://localhost:8080/",
          "height": 51
        },
        "outputId": "34c7ceee-db26-49d7-a61e-4f180c47004f"
      },
      "source": [
        "a= float(input(\"Ingrese el numero: \"))\n",
        "\n",
        "if a !=0:\n",
        "  if a>0:\n",
        "    print(\"El numero es positivo\")\n",
        "  else:\n",
        "    print(\"El numero es negativo\")\n",
        "else:\n",
        "  print(\"El numero es igual a cero\")"
      ],
      "execution_count": 8,
      "outputs": [
        {
          "output_type": "stream",
          "text": [
            "Ingrese el numero: 0\n",
            "El numero es igual a cero\n"
          ],
          "name": "stdout"
        }
      ]
    },
    {
      "cell_type": "markdown",
      "metadata": {
        "id": "oHhIlF6aTCF9",
        "colab_type": "text"
      },
      "source": [
        "ejercicio calcular promedio de un grupo de valores\n"
      ]
    },
    {
      "cell_type": "code",
      "metadata": {
        "id": "sKeK23FJTHoN",
        "colab_type": "code",
        "colab": {}
      },
      "source": [
        "a="
      ],
      "execution_count": null,
      "outputs": []
    },
    {
      "cell_type": "markdown",
      "metadata": {
        "id": "eK7CHA81TWN1",
        "colab_type": "text"
      },
      "source": [
        "vectores"
      ]
    },
    {
      "cell_type": "code",
      "metadata": {
        "id": "7MQfWwrETYHl",
        "colab_type": "code",
        "colab": {
          "base_uri": "https://localhost:8080/",
          "height": 51
        },
        "outputId": "f3fd4158-84de-4f5c-c273-e589aee75cd1"
      },
      "source": [
        "lista= [5, 10, 20, 30]\n",
        "suma=0\n",
        "for i in lista:\n",
        "  suma +=i\n",
        "\n",
        "#saber cuantos items componen la lista\n",
        "nvals = len(lista)\n",
        "print(nvals)\n",
        "print(\"Promedio: \", suma/nvals)"
      ],
      "execution_count": 10,
      "outputs": [
        {
          "output_type": "stream",
          "text": [
            "4\n",
            "Promedio:  16.25\n"
          ],
          "name": "stdout"
        }
      ]
    },
    {
      "cell_type": "markdown",
      "metadata": {
        "id": "AyfKURvqUutb",
        "colab_type": "text"
      },
      "source": [
        "ciclo while\n"
      ]
    },
    {
      "cell_type": "code",
      "metadata": {
        "id": "YIQdWSOZUw-T",
        "colab_type": "code",
        "colab": {
          "base_uri": "https://localhost:8080/",
          "height": 187
        },
        "outputId": "59f3426c-6b11-40cd-d64a-c51c45c30bf9"
      },
      "source": [
        "j=0\n",
        "while j<10:\n",
        "  print(j)\n",
        "  j +=1"
      ],
      "execution_count": 11,
      "outputs": [
        {
          "output_type": "stream",
          "text": [
            "0\n",
            "1\n",
            "2\n",
            "3\n",
            "4\n",
            "5\n",
            "6\n",
            "7\n",
            "8\n",
            "9\n"
          ],
          "name": "stdout"
        }
      ]
    },
    {
      "cell_type": "markdown",
      "metadata": {
        "id": "F4vJb6r_VWUy",
        "colab_type": "text"
      },
      "source": [
        "funciones"
      ]
    },
    {
      "cell_type": "code",
      "metadata": {
        "id": "aYXRXH9KVYAz",
        "colab_type": "code",
        "colab": {}
      },
      "source": [
        "def calcular_promedio(serie):\n",
        "\n",
        "  suma=0\n",
        "  for i in serie:\n",
        "    suma+=i\n",
        "\n",
        "    nvals = len(serie)\n",
        "    return suma/nvals\n",
        "    "
      ],
      "execution_count": 15,
      "outputs": []
    },
    {
      "cell_type": "code",
      "metadata": {
        "id": "anqCBquCWGwv",
        "colab_type": "code",
        "colab": {
          "base_uri": "https://localhost:8080/",
          "height": 51
        },
        "outputId": "106549e0-a677-4c04-8a05-5f671606d1a9"
      },
      "source": [
        "lista = [15, 101,2]\n",
        "#llamamos a la funcion y le asignamos el retorno a la variable prom1\n",
        "prom1 = calcular_promedio(lista)\n",
        "print(\"Promedio: \", prom1 )\n",
        "\n",
        "lista2 = [0, 10, 20]\n",
        "prom2 = calcular_promedio(lista2)\n",
        "print(\"Promedio: \", prom2)"
      ],
      "execution_count": 18,
      "outputs": [
        {
          "output_type": "stream",
          "text": [
            "Promedio:  5.0\n",
            "Promedio:  0.0\n"
          ],
          "name": "stdout"
        }
      ]
    },
    {
      "cell_type": "markdown",
      "metadata": {
        "id": "Vh4i_CFfYj1O",
        "colab_type": "text"
      },
      "source": [
        "vendedores 100"
      ]
    },
    {
      "cell_type": "code",
      "metadata": {
        "id": "FJNIvb4yYn1b",
        "colab_type": "code",
        "colab": {
          "base_uri": "https://localhost:8080/",
          "height": 204
        },
        "outputId": "b3b4ddbe-d16a-4e25-aec9-d4437b33483b"
      },
      "source": [
        "#capturar ventas de vendedores\n",
        "ventas= [5000000, 1000000, 1000000, 6500000, 8000000]\n",
        "#revisar en cual categoria y calcular el % de comisión\n",
        "comision=0\n",
        "suma=0\n",
        "for l in ventas:\n",
        "  if  l<=3000000:\n",
        "    comision = l*3/100\n",
        "  elif l<=5000000:\n",
        "    comision = l*4/100\n",
        "  elif l<=7000000:\n",
        "    comision = l*5/100\n",
        "  else:\n",
        "    comision = l*6/100\n",
        "  print (\"venta: \", l)\n",
        "  print (\"comision: \", comision)\n",
        "  suma +=comision\n",
        "promedio  = suma/len(ventas)\n",
        "print (\"El promedio de las comisiones es: \", promedio)"
      ],
      "execution_count": 20,
      "outputs": [
        {
          "output_type": "stream",
          "text": [
            "venta:  5000000\n",
            "comision:  200000.0\n",
            "venta:  1000000\n",
            "comision:  30000.0\n",
            "venta:  1000000\n",
            "comision:  30000.0\n",
            "venta:  6500000\n",
            "comision:  325000.0\n",
            "venta:  8000000\n",
            "comision:  480000.0\n",
            "El promedio de las comisiones es:  213000.0\n"
          ],
          "name": "stdout"
        }
      ]
    }
  ]
}